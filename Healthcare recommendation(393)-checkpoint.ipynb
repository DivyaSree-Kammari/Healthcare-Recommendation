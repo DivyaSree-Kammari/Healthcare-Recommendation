{
 "cells": [
  {
   "cell_type": "code",
   "execution_count": 1,
   "id": "5f805b1c-6892-4782-91c0-17d5915ca6cb",
   "metadata": {},
   "outputs": [
    {
     "name": "stdout",
     "output_type": "stream",
     "text": [
      "Requirement already satisfied: numpy in c:\\users\\sagar\\appdata\\local\\programs\\python\\python312\\lib\\site-packages (1.26.1)\n",
      "Note: you may need to restart the kernel to use updated packages.\n"
     ]
    }
   ],
   "source": [
    "pip install numpy"
   ]
  },
  {
   "cell_type": "code",
   "execution_count": 1,
   "id": "38c61752-e154-4ec2-8835-9259329792bb",
   "metadata": {},
   "outputs": [
    {
     "name": "stdout",
     "output_type": "stream",
     "text": [
      "Requirement already satisfied: pandas in c:\\users\\sagar\\appdata\\local\\programs\\python\\python312\\lib\\site-packages (2.1.2)\n",
      "Requirement already satisfied: numpy<2,>=1.26.0 in c:\\users\\sagar\\appdata\\local\\programs\\python\\python312\\lib\\site-packages (from pandas) (1.26.1)\n",
      "Requirement already satisfied: python-dateutil>=2.8.2 in c:\\users\\sagar\\appdata\\local\\programs\\python\\python312\\lib\\site-packages (from pandas) (2.8.2)\n",
      "Requirement already satisfied: pytz>=2020.1 in c:\\users\\sagar\\appdata\\local\\programs\\python\\python312\\lib\\site-packages (from pandas) (2023.3.post1)\n",
      "Requirement already satisfied: tzdata>=2022.1 in c:\\users\\sagar\\appdata\\local\\programs\\python\\python312\\lib\\site-packages (from pandas) (2023.3)\n",
      "Requirement already satisfied: six>=1.5 in c:\\users\\sagar\\appdata\\local\\programs\\python\\python312\\lib\\site-packages (from python-dateutil>=2.8.2->pandas) (1.16.0)\n",
      "Note: you may need to restart the kernel to use updated packages.\n"
     ]
    }
   ],
   "source": [
    "pip install pandas"
   ]
  },
  {
   "cell_type": "code",
   "execution_count": 1,
   "id": "d6021f07-295a-4eaa-b964-5a23bbb17d76",
   "metadata": {},
   "outputs": [
    {
     "name": "stdout",
     "output_type": "stream",
     "text": [
      "Requirement already satisfied: scikit-learn in c:\\users\\sagar\\appdata\\local\\programs\\python\\python312\\lib\\site-packages (1.3.2)\n",
      "Requirement already satisfied: numpy<2.0,>=1.17.3 in c:\\users\\sagar\\appdata\\local\\programs\\python\\python312\\lib\\site-packages (from scikit-learn) (1.26.1)\n",
      "Requirement already satisfied: scipy>=1.5.0 in c:\\users\\sagar\\appdata\\local\\programs\\python\\python312\\lib\\site-packages (from scikit-learn) (1.11.3)\n",
      "Requirement already satisfied: joblib>=1.1.1 in c:\\users\\sagar\\appdata\\local\\programs\\python\\python312\\lib\\site-packages (from scikit-learn) (1.3.2)\n",
      "Requirement already satisfied: threadpoolctl>=2.0.0 in c:\\users\\sagar\\appdata\\local\\programs\\python\\python312\\lib\\site-packages (from scikit-learn) (3.2.0)\n",
      "Note: you may need to restart the kernel to use updated packages.\n"
     ]
    }
   ],
   "source": [
    "pip install scikit-learn"
   ]
  },
  {
   "cell_type": "code",
   "execution_count": 4,
   "id": "4a6f90d6-f45b-4b6c-bc49-5f0eb4584ea1",
   "metadata": {},
   "outputs": [],
   "source": [
    "import pandas as pd\n",
    "import numpy as np\n",
    "from sklearn.linear_model import LogisticRegression\n",
    "import pickle\n",
    "import joblib\n"
   ]
  },
  {
   "cell_type": "code",
   "execution_count": 6,
   "id": "c624f96e-504b-4172-a70c-b3b4f74566b8",
   "metadata": {},
   "outputs": [
    {
     "name": "stdout",
     "output_type": "stream",
     "text": [
      "30\n"
     ]
    },
    {
     "data": {
      "text/plain": [
       "['model.pkl']"
      ]
     },
     "execution_count": 6,
     "metadata": {},
     "output_type": "execute_result"
    }
   ],
   "source": [
    "\n",
    "data = pd.read_csv(\"cancer.csv\")\n",
    "data.drop([\"Unnamed: 32\", \"id\"], axis=1, inplace=True)\n",
    "a = pd.get_dummies(data[\"diagnosis\"])\n",
    "cancer = pd.concat([data, a], axis=1)\n",
    "cancer.drop([\"diagnosis\", \"B\"], axis=1, inplace=True)\n",
    "cancer.rename(columns={\"M\": \"Malignant/Benign\"}, inplace=True)\n",
    "y = cancer[[\"Malignant/Benign\"]]\n",
    "X = cancer.drop([\"Malignant/Benign\"], axis=1)\n",
    "\n",
    "print(X.shape[1])\n",
    "\n",
    "# Scale the data\n",
    "scaler = StandardScaler()\n",
    "X_scaled = scaler.fit_transform(X)\n",
    "\n",
    "logreg = LogisticRegression(max_iter=1000)  # Increasing the max_iter value\n",
    "\n",
    "logreg.fit(X_scaled, y.values.ravel())\n",
    "\n",
    "joblib.dump(logreg, \"model.pkl\")\n"
   ]
  },
  {
   "cell_type": "code",
   "execution_count": 3,
   "id": "603567f3-5c98-43ad-b80a-a231d242623a",
   "metadata": {},
   "outputs": [
    {
     "name": "stdout",
     "output_type": "stream",
     "text": [
      "Accuracy: 0.97\n"
     ]
    },
    {
     "data": {
      "text/plain": [
       "['model.pkl']"
      ]
     },
     "execution_count": 3,
     "metadata": {},
     "output_type": "execute_result"
    }
   ],
   "source": [
    "import pandas as pd\n",
    "import numpy as np\n",
    "from sklearn.linear_model import LogisticRegression\n",
    "from sklearn.preprocessing import StandardScaler\n",
    "from sklearn.model_selection import train_test_split\n",
    "from sklearn.metrics import accuracy_score\n",
    "import joblib\n",
    "\n",
    "# Load the data\n",
    "data = pd.read_csv(\"cancer.csv\")\n",
    "data.drop([\"Unnamed: 32\", \"id\"], axis=1, inplace=True)\n",
    "a = pd.get_dummies(data[\"diagnosis\"])\n",
    "cancer = pd.concat([data, a], axis=1)\n",
    "cancer.drop([\"diagnosis\", \"B\"], axis=1, inplace=True)\n",
    "cancer.rename(columns={\"M\": \"Malignant/Benign\"}, inplace=True)\n",
    "y = cancer[[\"Malignant/Benign\"]]\n",
    "X = cancer.drop([\"Malignant/Benign\"], axis=1)\n",
    "\n",
    "# Scale the data\n",
    "scaler = StandardScaler()\n",
    "X_scaled = scaler.fit_transform(X)\n",
    "\n",
    "# Split the data into training and testing sets\n",
    "X_train, X_test, y_train, y_test = train_test_split(X_scaled, y.values.ravel(), test_size=0.2, random_state=42)\n",
    "\n",
    "# Train the logistic regression model\n",
    "logreg = LogisticRegression(max_iter=1000)  # Increasing the max_iter value\n",
    "logreg.fit(X_train, y_train)\n",
    "\n",
    "# Make predictions on the test set\n",
    "y_pred = logreg.predict(X_test)\n",
    "\n",
    "# Compute the accuracy\n",
    "accuracy = accuracy_score(y_test, y_pred)\n",
    "print(f\"Accuracy: {accuracy:.2f}\")\n",
    "\n",
    "# Save the model\n",
    "joblib.dump(logreg, \"model.pkl\")\n",
    "\n"
   ]
  },
  {
   "cell_type": "code",
   "execution_count": 5,
   "id": "2ed8ca99-3581-4c97-a3e9-f88f1f634b09",
   "metadata": {},
   "outputs": [
    {
     "name": "stdout",
     "output_type": "stream",
     "text": [
      "   Pregnancies  Glucose  BloodPressure  SkinThickness  Insulin   BMI  \\\n",
      "0            6      148             72             35        0  33.6   \n",
      "1            1       85             66             29        0  26.6   \n",
      "2            8      183             64              0        0  23.3   \n",
      "3            1       89             66             23       94  28.1   \n",
      "4            0      137             40             35      168  43.1   \n",
      "\n",
      "   DiabetesPedigreeFunction  Age  Outcome  \n",
      "0                     0.627   50        1  \n",
      "1                     0.351   31        0  \n",
      "2                     0.672   32        1  \n",
      "3                     0.167   21        0  \n",
      "4                     2.288   33        1  \n",
      "8\n"
     ]
    },
    {
     "data": {
      "text/plain": [
       "['model1.pkl']"
      ]
     },
     "execution_count": 5,
     "metadata": {},
     "output_type": "execute_result"
    }
   ],
   "source": [
    "import pandas as pd\n",
    "import numpy as np\n",
    "from sklearn.linear_model import LogisticRegression\n",
    "from sklearn.preprocessing import StandardScaler\n",
    "import joblib\n",
    "\n",
    "data = pd.read_csv(\"diabetes.csv\")\n",
    "print(data.head())\n",
    "\n",
    "logreg = LogisticRegression(max_iter=1000)  # Increasing the max_iter value\n",
    "\n",
    "X = data.iloc[:, :8]\n",
    "print(X.shape[1])\n",
    "\n",
    "y = data[\"Outcome\"]\n",
    "\n",
    "# Scale the data\n",
    "scaler = StandardScaler()\n",
    "X_scaled = scaler.fit_transform(X)\n",
    "\n",
    "logreg.fit(X_scaled, y)\n",
    "\n",
    "joblib.dump(logreg, \"model1.pkl\")"
   ]
  },
  {
   "cell_type": "code",
   "execution_count": 4,
   "id": "d77a72f1-cdf4-43f5-ac9d-a273392e7b2a",
   "metadata": {},
   "outputs": [
    {
     "name": "stdout",
     "output_type": "stream",
     "text": [
      "Accuracy: 0.9736842105263158\n"
     ]
    }
   ],
   "source": [
    "# Make predictions on the test set\n",
    "y_pred = logreg.predict(X_test)\n",
    "\n",
    "# Compute the accuracy\n",
    "test_data_accuracy = accuracy_score(y_test, y_pred)\n",
    "print('Accuracy:', test_data_accuracy)\n"
   ]
  },
  {
   "cell_type": "code",
   "execution_count": 5,
   "id": "479e35c8-72fc-4772-a2fb-9074e1941a58",
   "metadata": {},
   "outputs": [
    {
     "name": "stdout",
     "output_type": "stream",
     "text": [
      "12\n",
      "Index(['age', 'sex', 'cp', 'trestbps', 'chol', 'restecg', 'thalach', 'exang',\n",
      "       'oldpeak', 'slope', 'thal'],\n",
      "      dtype='object')\n",
      "{'fit_time': array([0.0071907 , 0.00635743, 0.00922656, 0.0080061 , 0.0080235 ,\n",
      "       0.00823855, 0.00811601, 0.        , 0.        , 0.00812173]), 'score_time': array([0.00139022, 0.        , 0.        , 0.        , 0.        ,\n",
      "       0.        , 0.00131416, 0.00711703, 0.        , 0.        ]), 'test_score': array([0.64516129, 0.48387097, 0.25806452, 0.56666667, 0.43333333,\n",
      "       0.6       , 0.56666667, 0.43333333, 0.6       , 0.4       ])}\n"
     ]
    },
    {
     "data": {
      "text/plain": [
       "['model2.pkl']"
      ]
     },
     "execution_count": 5,
     "metadata": {},
     "output_type": "execute_result"
    }
   ],
   "source": [
    "import pandas as pd\n",
    "import numpy as np\n",
    "from sklearn.linear_model import LogisticRegression\n",
    "from sklearn.preprocessing import StandardScaler\n",
    "from sklearn.model_selection import cross_validate\n",
    "import joblib\n",
    "\n",
    "data = pd.read_csv(\"heart.csv\")\n",
    "data[\"trestbps\"] = np.log(data[\"trestbps\"])\n",
    "data = data.drop([\"fbs\"], axis=1)\n",
    "data = data.drop([\"ca\"], axis=1)\n",
    "data[\"chol\"] = np.log(data[\"chol\"])\n",
    "target = data[\"target\"]\n",
    "print(data.shape[1])\n",
    "\n",
    "# Shuffle the data\n",
    "data = data.sample(frac=1, random_state=1).reset_index(drop=True)\n",
    "\n",
    "data = data.drop([\"target\"], axis=1)\n",
    "print(data.columns)\n",
    "sc = StandardScaler()\n",
    "data = sc.fit_transform(data)\n",
    "\n",
    "lr = LogisticRegression()\n",
    "lr.fit(data, target)\n",
    "cv_results = cross_validate(lr, data, target, cv=10)\n",
    "print(cv_results)\n",
    "joblib.dump(lr, \"model2.pkl\") \n"
   ]
  },
  {
   "cell_type": "code",
   "execution_count": 7,
   "id": "1a8421a8-330c-4e35-8233-1f66879dcf41",
   "metadata": {},
   "outputs": [
    {
     "name": "stdout",
     "output_type": "stream",
     "text": [
      "12\n",
      "Index(['age', 'sex', 'cp', 'trestbps', 'chol', 'restecg', 'thalach', 'exang',\n",
      "       'oldpeak', 'slope', 'thal'],\n",
      "      dtype='object')\n",
      "Mean Accuracy: 0.49870967741935485\n"
     ]
    },
    {
     "data": {
      "text/plain": [
       "['model2.pkl']"
      ]
     },
     "execution_count": 7,
     "metadata": {},
     "output_type": "execute_result"
    }
   ],
   "source": [
    "import pandas as pd\n",
    "import numpy as np\n",
    "from sklearn.linear_model import LogisticRegression\n",
    "from sklearn.preprocessing import StandardScaler\n",
    "from sklearn.model_selection import cross_val_score\n",
    "import joblib\n",
    "\n",
    "data = pd.read_csv(\"heart.csv\")\n",
    "data[\"trestbps\"] = np.log(data[\"trestbps\"])\n",
    "data = data.drop([\"fbs\"], axis=1)\n",
    "data = data.drop([\"ca\"], axis=1)\n",
    "data[\"chol\"] = np.log(data[\"chol\"])\n",
    "target = data[\"target\"]\n",
    "print(data.shape[1])\n",
    "\n",
    "# Shuffle the data\n",
    "data = data.sample(frac=1, random_state=1).reset_index(drop=True)\n",
    "\n",
    "data = data.drop([\"target\"], axis=1)\n",
    "print(data.columns)\n",
    "sc = StandardScaler()\n",
    "data = sc.fit_transform(data)\n",
    "\n",
    "lr = LogisticRegression()\n",
    "lr.fit(data, target)\n",
    "\n",
    "# Perform cross-validation\n",
    "cv_scores = cross_val_score(lr, data, target, cv=10, scoring='accuracy')\n",
    "\n",
    "# Compute the mean accuracy\n",
    "mean_accuracy = np.mean(cv_scores)\n",
    "print(\"Mean Accuracy:\", mean_accuracy)\n",
    "\n",
    "# Save the model\n",
    "joblib.dump(lr, \"model2.pkl\")"
   ]
  },
  {
   "cell_type": "code",
   "execution_count": 9,
   "id": "48f30277-cc39-4ab5-9bf6-b3d317e11ea1",
   "metadata": {},
   "outputs": [
    {
     "name": "stdout",
     "output_type": "stream",
     "text": [
      "Mean Accuracy: 0.8250537634408603\n"
     ]
    },
    {
     "data": {
      "text/plain": [
       "['model.pkl']"
      ]
     },
     "execution_count": 9,
     "metadata": {},
     "output_type": "execute_result"
    }
   ],
   "source": [
    "import pandas as pd\n",
    "import numpy as np\n",
    "from sklearn.linear_model import LogisticRegression\n",
    "from sklearn.preprocessing import StandardScaler\n",
    "from sklearn.model_selection import cross_val_score\n",
    "import joblib\n",
    "\n",
    "# Load the data\n",
    "data = pd.read_csv(\"heart.csv\")\n",
    "\n",
    "# Preprocess the data\n",
    "data[\"trestbps\"] = np.log(data[\"trestbps\"])\n",
    "data = data.drop([\"fbs\", \"ca\"], axis=1)\n",
    "data[\"chol\"] = np.log(data[\"chol\"])\n",
    "\n",
    "# Define features and target\n",
    "X = data.drop(\"target\", axis=1)\n",
    "y = data[\"target\"]\n",
    "\n",
    "# Standardize the features\n",
    "scaler = StandardScaler()\n",
    "X_scaled = scaler.fit_transform(X)\n",
    "\n",
    "# Create a logistic regression model\n",
    "lr = LogisticRegression()\n",
    "\n",
    "# Perform cross-validation\n",
    "cv_scores = cross_val_score(lr, X_scaled, y, cv=10, scoring='accuracy')\n",
    "\n",
    "# Calculate the mean accuracy\n",
    "mean_accuracy = np.mean(cv_scores)\n",
    "print(\"Mean Accuracy:\", mean_accuracy)\n",
    "\n",
    "# Fit the model on the entire dataset\n",
    "lr.fit(X_scaled, y)\n",
    "\n",
    "# Save the model\n",
    "joblib.dump(lr, \"model.pkl\")\n"
   ]
  },
  {
   "cell_type": "code",
   "execution_count": null,
   "id": "ff5462ec-0ae5-4c56-9c61-8e0390d61f2a",
   "metadata": {},
   "outputs": [],
   "source": []
  }
 ],
 "metadata": {
  "kernelspec": {
   "display_name": "Python 3 (ipykernel)",
   "language": "python",
   "name": "python3"
  },
  "language_info": {
   "codemirror_mode": {
    "name": "ipython",
    "version": 3
   },
   "file_extension": ".py",
   "mimetype": "text/x-python",
   "name": "python",
   "nbconvert_exporter": "python",
   "pygments_lexer": "ipython3",
   "version": "3.12.0"
  }
 },
 "nbformat": 4,
 "nbformat_minor": 5
}
